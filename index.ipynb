{
 "cells": [
  {
   "cell_type": "code",
   "execution_count": 1,
   "id": "47d2f7a5-39f0-41a8-be42-ea9a1c04e823",
   "metadata": {},
   "outputs": [
    {
     "name": "stdout",
     "output_type": "stream",
     "text": [
      "Traceback (most recent call last):\n",
      "  File \"/home/abooo/anaconda3/lib/python3.9/site-packages/jupyter_server/serverapp.py\", line 49, in <module>\n",
      "    assert tornado.version_info >= MIN_TORNADO\n",
      "AssertionError\n",
      "\n",
      "The above exception was the direct cause of the following exception:\n",
      "\n",
      "Traceback (most recent call last):\n",
      "  File \"/home/abooo/anaconda3/bin/voila\", line 5, in <module>\n",
      "    from voila.app import main\n",
      "  File \"/home/abooo/anaconda3/lib/python3.9/site-packages/voila/__init__.py\", line 11, in <module>\n",
      "    from .server_extension import _load_jupyter_server_extension # noqa\n",
      "  File \"/home/abooo/anaconda3/lib/python3.9/site-packages/voila/server_extension.py\", line 18, in <module>\n",
      "    from jupyterlab_server.themes_handler import ThemesHandler\n",
      "  File \"/home/abooo/anaconda3/lib/python3.9/site-packages/jupyterlab_server/__init__.py\", line 4, in <module>\n",
      "    from .app import LabServerApp\n",
      "  File \"/home/abooo/anaconda3/lib/python3.9/site-packages/jupyterlab_server/app.py\", line 7, in <module>\n",
      "    from jupyter_server.extension.application import ExtensionApp, ExtensionAppJinjaMixin\n",
      "  File \"/home/abooo/anaconda3/lib/python3.9/site-packages/jupyter_server/extension/application.py\", line 12, in <module>\n",
      "    from jupyter_server.serverapp import ServerApp\n",
      "  File \"/home/abooo/anaconda3/lib/python3.9/site-packages/jupyter_server/serverapp.py\", line 51, in <module>\n",
      "    raise ImportError(_i18n(\"The Jupyter Server requires tornado >=%s.%s.%s\") % MIN_TORNADO) from e\n",
      "ImportError: The Jupyter Server requires tornado >=6.1.0\n"
     ]
    }
   ],
   "source": [
    "!voila MEWALP_main.ipynb"
   ]
  }
 ],
 "metadata": {
  "kernelspec": {
   "display_name": "Python 3 (ipykernel)",
   "language": "python",
   "name": "python3"
  },
  "language_info": {
   "codemirror_mode": {
    "name": "ipython",
    "version": 3
   },
   "file_extension": ".py",
   "mimetype": "text/x-python",
   "name": "python",
   "nbconvert_exporter": "python",
   "pygments_lexer": "ipython3",
   "version": "3.9.13"
  }
 },
 "nbformat": 4,
 "nbformat_minor": 5
}
